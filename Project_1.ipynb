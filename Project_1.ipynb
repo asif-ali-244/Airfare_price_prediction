{
  "nbformat": 4,
  "nbformat_minor": 0,
  "metadata": {
    "colab": {
      "name": "Project-1.ipynb",
      "provenance": [],
      "collapsed_sections": []
    },
    "kernelspec": {
      "name": "python3",
      "display_name": "Python 3"
    },
    "accelerator": "GPU"
  },
  "cells": [
    {
      "cell_type": "markdown",
      "metadata": {
        "id": "wGGDYNuTHgXw"
      },
      "source": [
        "#Airfare Price Prediction"
      ]
    },
    {
      "cell_type": "markdown",
      "metadata": {
        "id": "cQ4dThCfHtZi"
      },
      "source": [
        "### Importing Libraries\n"
      ]
    },
    {
      "cell_type": "code",
      "metadata": {
        "id": "mfgVOBAjIAsS"
      },
      "source": [
        "import numpy as np\n",
        "import pandas as pd\n",
        "import seaborn as sns\n",
        "import matplotlib.pyplot as plt\n",
        "sns.set()"
      ],
      "execution_count": 103,
      "outputs": []
    },
    {
      "cell_type": "markdown",
      "metadata": {
        "id": "ERjyYINzIXb3"
      },
      "source": [
        "### Loading the dataset"
      ]
    },
    {
      "cell_type": "code",
      "metadata": {
        "id": "wg7kryXlIbVM"
      },
      "source": [
        "data=pd.read_excel(\"Data_Train.xlsx\")"
      ],
      "execution_count": 104,
      "outputs": []
    },
    {
      "cell_type": "code",
      "metadata": {
        "id": "LY6r1gglIqda",
        "outputId": "4ca4066f-eeef-4078-e9ce-30f64300fbef",
        "colab": {
          "base_uri": "https://localhost:8080/",
          "height": 195
        }
      },
      "source": [
        "data.head()"
      ],
      "execution_count": 105,
      "outputs": [
        {
          "output_type": "execute_result",
          "data": {
            "text/html": [
              "<div>\n",
              "<style scoped>\n",
              "    .dataframe tbody tr th:only-of-type {\n",
              "        vertical-align: middle;\n",
              "    }\n",
              "\n",
              "    .dataframe tbody tr th {\n",
              "        vertical-align: top;\n",
              "    }\n",
              "\n",
              "    .dataframe thead th {\n",
              "        text-align: right;\n",
              "    }\n",
              "</style>\n",
              "<table border=\"1\" class=\"dataframe\">\n",
              "  <thead>\n",
              "    <tr style=\"text-align: right;\">\n",
              "      <th></th>\n",
              "      <th>Airline</th>\n",
              "      <th>Date_of_Journey</th>\n",
              "      <th>Source</th>\n",
              "      <th>Destination</th>\n",
              "      <th>Route</th>\n",
              "      <th>Dep_Time</th>\n",
              "      <th>Arrival_Time</th>\n",
              "      <th>Duration</th>\n",
              "      <th>Total_Stops</th>\n",
              "      <th>Additional_Info</th>\n",
              "      <th>Price</th>\n",
              "    </tr>\n",
              "  </thead>\n",
              "  <tbody>\n",
              "    <tr>\n",
              "      <th>0</th>\n",
              "      <td>IndiGo</td>\n",
              "      <td>24/03/2019</td>\n",
              "      <td>Banglore</td>\n",
              "      <td>New Delhi</td>\n",
              "      <td>BLR → DEL</td>\n",
              "      <td>22:20</td>\n",
              "      <td>01:10 22 Mar</td>\n",
              "      <td>2h 50m</td>\n",
              "      <td>non-stop</td>\n",
              "      <td>No info</td>\n",
              "      <td>3897</td>\n",
              "    </tr>\n",
              "    <tr>\n",
              "      <th>1</th>\n",
              "      <td>Air India</td>\n",
              "      <td>1/05/2019</td>\n",
              "      <td>Kolkata</td>\n",
              "      <td>Banglore</td>\n",
              "      <td>CCU → IXR → BBI → BLR</td>\n",
              "      <td>05:50</td>\n",
              "      <td>13:15</td>\n",
              "      <td>7h 25m</td>\n",
              "      <td>2 stops</td>\n",
              "      <td>No info</td>\n",
              "      <td>7662</td>\n",
              "    </tr>\n",
              "    <tr>\n",
              "      <th>2</th>\n",
              "      <td>Jet Airways</td>\n",
              "      <td>9/06/2019</td>\n",
              "      <td>Delhi</td>\n",
              "      <td>Cochin</td>\n",
              "      <td>DEL → LKO → BOM → COK</td>\n",
              "      <td>09:25</td>\n",
              "      <td>04:25 10 Jun</td>\n",
              "      <td>19h</td>\n",
              "      <td>2 stops</td>\n",
              "      <td>No info</td>\n",
              "      <td>13882</td>\n",
              "    </tr>\n",
              "    <tr>\n",
              "      <th>3</th>\n",
              "      <td>IndiGo</td>\n",
              "      <td>12/05/2019</td>\n",
              "      <td>Kolkata</td>\n",
              "      <td>Banglore</td>\n",
              "      <td>CCU → NAG → BLR</td>\n",
              "      <td>18:05</td>\n",
              "      <td>23:30</td>\n",
              "      <td>5h 25m</td>\n",
              "      <td>1 stop</td>\n",
              "      <td>No info</td>\n",
              "      <td>6218</td>\n",
              "    </tr>\n",
              "    <tr>\n",
              "      <th>4</th>\n",
              "      <td>IndiGo</td>\n",
              "      <td>01/03/2019</td>\n",
              "      <td>Banglore</td>\n",
              "      <td>New Delhi</td>\n",
              "      <td>BLR → NAG → DEL</td>\n",
              "      <td>16:50</td>\n",
              "      <td>21:35</td>\n",
              "      <td>4h 45m</td>\n",
              "      <td>1 stop</td>\n",
              "      <td>No info</td>\n",
              "      <td>13302</td>\n",
              "    </tr>\n",
              "  </tbody>\n",
              "</table>\n",
              "</div>"
            ],
            "text/plain": [
              "       Airline Date_of_Journey    Source  ... Total_Stops Additional_Info  Price\n",
              "0       IndiGo      24/03/2019  Banglore  ...    non-stop         No info   3897\n",
              "1    Air India       1/05/2019   Kolkata  ...     2 stops         No info   7662\n",
              "2  Jet Airways       9/06/2019     Delhi  ...     2 stops         No info  13882\n",
              "3       IndiGo      12/05/2019   Kolkata  ...      1 stop         No info   6218\n",
              "4       IndiGo      01/03/2019  Banglore  ...      1 stop         No info  13302\n",
              "\n",
              "[5 rows x 11 columns]"
            ]
          },
          "metadata": {
            "tags": []
          },
          "execution_count": 105
        }
      ]
    },
    {
      "cell_type": "code",
      "metadata": {
        "id": "eU9679YjKSIR",
        "outputId": "930f85d3-1573-42bd-9840-f4f2e025d84d",
        "colab": {
          "base_uri": "https://localhost:8080/",
          "height": 34
        }
      },
      "source": [
        "data.shape"
      ],
      "execution_count": 106,
      "outputs": [
        {
          "output_type": "execute_result",
          "data": {
            "text/plain": [
              "(10683, 11)"
            ]
          },
          "metadata": {
            "tags": []
          },
          "execution_count": 106
        }
      ]
    },
    {
      "cell_type": "code",
      "metadata": {
        "id": "Gf2hrWYwKXZy",
        "outputId": "93278bc9-8c29-44d5-82b6-f648084b57f6",
        "colab": {
          "base_uri": "https://localhost:8080/",
          "height": 319
        }
      },
      "source": [
        "data.info()"
      ],
      "execution_count": 107,
      "outputs": [
        {
          "output_type": "stream",
          "text": [
            "<class 'pandas.core.frame.DataFrame'>\n",
            "RangeIndex: 10683 entries, 0 to 10682\n",
            "Data columns (total 11 columns):\n",
            " #   Column           Non-Null Count  Dtype \n",
            "---  ------           --------------  ----- \n",
            " 0   Airline          10683 non-null  object\n",
            " 1   Date_of_Journey  10683 non-null  object\n",
            " 2   Source           10683 non-null  object\n",
            " 3   Destination      10683 non-null  object\n",
            " 4   Route            10682 non-null  object\n",
            " 5   Dep_Time         10683 non-null  object\n",
            " 6   Arrival_Time     10683 non-null  object\n",
            " 7   Duration         10683 non-null  object\n",
            " 8   Total_Stops      10682 non-null  object\n",
            " 9   Additional_Info  10683 non-null  object\n",
            " 10  Price            10683 non-null  int64 \n",
            "dtypes: int64(1), object(10)\n",
            "memory usage: 918.2+ KB\n"
          ],
          "name": "stdout"
        }
      ]
    },
    {
      "cell_type": "markdown",
      "metadata": {
        "id": "FQYFN6YLtlp6"
      },
      "source": [
        "### Data Cleaning"
      ]
    },
    {
      "cell_type": "code",
      "metadata": {
        "id": "shgrlSm6KYyp",
        "outputId": "53c555ab-dd03-4dfa-d9cb-5543939ba055",
        "colab": {
          "base_uri": "https://localhost:8080/",
          "height": 218
        }
      },
      "source": [
        "data.isnull().sum()"
      ],
      "execution_count": 108,
      "outputs": [
        {
          "output_type": "execute_result",
          "data": {
            "text/plain": [
              "Airline            0\n",
              "Date_of_Journey    0\n",
              "Source             0\n",
              "Destination        0\n",
              "Route              1\n",
              "Dep_Time           0\n",
              "Arrival_Time       0\n",
              "Duration           0\n",
              "Total_Stops        1\n",
              "Additional_Info    0\n",
              "Price              0\n",
              "dtype: int64"
            ]
          },
          "metadata": {
            "tags": []
          },
          "execution_count": 108
        }
      ]
    },
    {
      "cell_type": "code",
      "metadata": {
        "id": "62Wb0rDyKiH8"
      },
      "source": [
        "# Dropping null rows\n",
        "data.dropna(inplace=True)"
      ],
      "execution_count": 109,
      "outputs": []
    },
    {
      "cell_type": "code",
      "metadata": {
        "id": "uRwGBQemtWjv"
      },
      "source": [
        "# Removing Duplicates\n",
        "data.drop_duplicates(keep='first',inplace=True)"
      ],
      "execution_count": 110,
      "outputs": []
    },
    {
      "cell_type": "markdown",
      "metadata": {
        "id": "3N7Day-yt_oZ"
      },
      "source": [
        "### Feature Engineering"
      ]
    },
    {
      "cell_type": "code",
      "metadata": {
        "id": "Dn1Sn7ad2GQb"
      },
      "source": [
        "# Converting Duration format into minutes\n",
        "\n",
        "def duration(test):\n",
        "  test=test.strip()\n",
        "  total=test.split(' ')\n",
        "  to=total[0]\n",
        "  hrs=(int)(to[:-1])*60\n",
        "  if(len(total)==2):\n",
        "    mint=(int)(total[1][:-1])\n",
        "    hrs=hrs+mint\n",
        "  test=int(hrs)\n",
        "  return test\n",
        "data[\"Duration\"]=data[\"Duration\"].apply(duration)"
      ],
      "execution_count": 111,
      "outputs": []
    },
    {
      "cell_type": "code",
      "metadata": {
        "id": "kP1lC10Q5HfV"
      },
      "source": [
        "# Converting Date of Journey\n",
        "data['Date']=data['Date_of_Journey'].str.split('/').str[0].astype(int)\n",
        "data['Month']=data['Date_of_Journey'].str.split('/').str[1].astype(int)\n",
        "data['Year']=data['Date_of_Journey'].str.split('/').str[2].astype(int)"
      ],
      "execution_count": 112,
      "outputs": []
    },
    {
      "cell_type": "code",
      "metadata": {
        "id": "Sg3HSxu05Z8C",
        "outputId": "11f9e16a-1468-4d5e-9366-29ef28718a70",
        "colab": {
          "base_uri": "https://localhost:8080/",
          "height": 195
        }
      },
      "source": [
        "data.head()"
      ],
      "execution_count": 113,
      "outputs": [
        {
          "output_type": "execute_result",
          "data": {
            "text/html": [
              "<div>\n",
              "<style scoped>\n",
              "    .dataframe tbody tr th:only-of-type {\n",
              "        vertical-align: middle;\n",
              "    }\n",
              "\n",
              "    .dataframe tbody tr th {\n",
              "        vertical-align: top;\n",
              "    }\n",
              "\n",
              "    .dataframe thead th {\n",
              "        text-align: right;\n",
              "    }\n",
              "</style>\n",
              "<table border=\"1\" class=\"dataframe\">\n",
              "  <thead>\n",
              "    <tr style=\"text-align: right;\">\n",
              "      <th></th>\n",
              "      <th>Airline</th>\n",
              "      <th>Date_of_Journey</th>\n",
              "      <th>Source</th>\n",
              "      <th>Destination</th>\n",
              "      <th>Route</th>\n",
              "      <th>Dep_Time</th>\n",
              "      <th>Arrival_Time</th>\n",
              "      <th>Duration</th>\n",
              "      <th>Total_Stops</th>\n",
              "      <th>Additional_Info</th>\n",
              "      <th>Price</th>\n",
              "      <th>Date</th>\n",
              "      <th>Month</th>\n",
              "      <th>Year</th>\n",
              "    </tr>\n",
              "  </thead>\n",
              "  <tbody>\n",
              "    <tr>\n",
              "      <th>0</th>\n",
              "      <td>IndiGo</td>\n",
              "      <td>24/03/2019</td>\n",
              "      <td>Banglore</td>\n",
              "      <td>New Delhi</td>\n",
              "      <td>BLR → DEL</td>\n",
              "      <td>22:20</td>\n",
              "      <td>01:10 22 Mar</td>\n",
              "      <td>170</td>\n",
              "      <td>non-stop</td>\n",
              "      <td>No info</td>\n",
              "      <td>3897</td>\n",
              "      <td>24</td>\n",
              "      <td>3</td>\n",
              "      <td>2019</td>\n",
              "    </tr>\n",
              "    <tr>\n",
              "      <th>1</th>\n",
              "      <td>Air India</td>\n",
              "      <td>1/05/2019</td>\n",
              "      <td>Kolkata</td>\n",
              "      <td>Banglore</td>\n",
              "      <td>CCU → IXR → BBI → BLR</td>\n",
              "      <td>05:50</td>\n",
              "      <td>13:15</td>\n",
              "      <td>445</td>\n",
              "      <td>2 stops</td>\n",
              "      <td>No info</td>\n",
              "      <td>7662</td>\n",
              "      <td>1</td>\n",
              "      <td>5</td>\n",
              "      <td>2019</td>\n",
              "    </tr>\n",
              "    <tr>\n",
              "      <th>2</th>\n",
              "      <td>Jet Airways</td>\n",
              "      <td>9/06/2019</td>\n",
              "      <td>Delhi</td>\n",
              "      <td>Cochin</td>\n",
              "      <td>DEL → LKO → BOM → COK</td>\n",
              "      <td>09:25</td>\n",
              "      <td>04:25 10 Jun</td>\n",
              "      <td>1140</td>\n",
              "      <td>2 stops</td>\n",
              "      <td>No info</td>\n",
              "      <td>13882</td>\n",
              "      <td>9</td>\n",
              "      <td>6</td>\n",
              "      <td>2019</td>\n",
              "    </tr>\n",
              "    <tr>\n",
              "      <th>3</th>\n",
              "      <td>IndiGo</td>\n",
              "      <td>12/05/2019</td>\n",
              "      <td>Kolkata</td>\n",
              "      <td>Banglore</td>\n",
              "      <td>CCU → NAG → BLR</td>\n",
              "      <td>18:05</td>\n",
              "      <td>23:30</td>\n",
              "      <td>325</td>\n",
              "      <td>1 stop</td>\n",
              "      <td>No info</td>\n",
              "      <td>6218</td>\n",
              "      <td>12</td>\n",
              "      <td>5</td>\n",
              "      <td>2019</td>\n",
              "    </tr>\n",
              "    <tr>\n",
              "      <th>4</th>\n",
              "      <td>IndiGo</td>\n",
              "      <td>01/03/2019</td>\n",
              "      <td>Banglore</td>\n",
              "      <td>New Delhi</td>\n",
              "      <td>BLR → NAG → DEL</td>\n",
              "      <td>16:50</td>\n",
              "      <td>21:35</td>\n",
              "      <td>285</td>\n",
              "      <td>1 stop</td>\n",
              "      <td>No info</td>\n",
              "      <td>13302</td>\n",
              "      <td>1</td>\n",
              "      <td>3</td>\n",
              "      <td>2019</td>\n",
              "    </tr>\n",
              "  </tbody>\n",
              "</table>\n",
              "</div>"
            ],
            "text/plain": [
              "       Airline Date_of_Journey    Source Destination  ...  Price Date Month  Year\n",
              "0       IndiGo      24/03/2019  Banglore   New Delhi  ...   3897   24     3  2019\n",
              "1    Air India       1/05/2019   Kolkata    Banglore  ...   7662    1     5  2019\n",
              "2  Jet Airways       9/06/2019     Delhi      Cochin  ...  13882    9     6  2019\n",
              "3       IndiGo      12/05/2019   Kolkata    Banglore  ...   6218   12     5  2019\n",
              "4       IndiGo      01/03/2019  Banglore   New Delhi  ...  13302    1     3  2019\n",
              "\n",
              "[5 rows x 14 columns]"
            ]
          },
          "metadata": {
            "tags": []
          },
          "execution_count": 113
        }
      ]
    },
    {
      "cell_type": "code",
      "metadata": {
        "id": "gC7VH9IpFwkt"
      },
      "source": [
        "data.drop([\"Date_of_Journey\"],axis=1,inplace=True)"
      ],
      "execution_count": 114,
      "outputs": []
    },
    {
      "cell_type": "code",
      "metadata": {
        "id": "SMs86apdF7yx"
      },
      "source": [
        "#Arrival time\n",
        "data[\"Arrival_hour\"] = pd.to_datetime(data.Arrival_Time).dt.hour\n",
        "data[\"Arrival_min\"] = pd.to_datetime(data.Arrival_Time).dt.minute\n",
        "data.drop([\"Arrival_Time\"], axis = 1, inplace = True)"
      ],
      "execution_count": 115,
      "outputs": []
    },
    {
      "cell_type": "code",
      "metadata": {
        "id": "tr3jiR57HHWN"
      },
      "source": [
        "#Departure time\n",
        "data[\"Dep_hour\"] = pd.to_datetime(data[\"Dep_Time\"]).dt.hour\n",
        "data[\"Dep_min\"] = pd.to_datetime(data[\"Dep_Time\"]).dt.minute\n",
        "data.drop([\"Dep_Time\"], axis = 1, inplace = True)"
      ],
      "execution_count": 116,
      "outputs": []
    },
    {
      "cell_type": "code",
      "metadata": {
        "id": "CKMt86J5HWHL"
      },
      "source": [
        "# Total Stops\n",
        "data['Total_Stops'].replace(['non-stop','1 stop', '2 stops', '3 stops', '4 stops'], [1, 0, 2, 3, 4], inplace=True)"
      ],
      "execution_count": 117,
      "outputs": []
    },
    {
      "cell_type": "code",
      "metadata": {
        "id": "XfXswUfk1iia",
        "outputId": "64d9b8b6-3dd3-4fb3-e73e-4e73e0e0f514",
        "colab": {
          "base_uri": "https://localhost:8080/",
          "height": 202
        }
      },
      "source": [
        "data[\"Additional_Info\"].value_counts()"
      ],
      "execution_count": 118,
      "outputs": [
        {
          "output_type": "execute_result",
          "data": {
            "text/plain": [
              "No info                         8182\n",
              "In-flight meal not included     1926\n",
              "No check-in baggage included     318\n",
              "1 Long layover                    19\n",
              "Change airports                    7\n",
              "Business class                     4\n",
              "No Info                            3\n",
              "1 Short layover                    1\n",
              "Red-eye flight                     1\n",
              "2 Long layover                     1\n",
              "Name: Additional_Info, dtype: int64"
            ]
          },
          "metadata": {
            "tags": []
          },
          "execution_count": 118
        }
      ]
    },
    {
      "cell_type": "code",
      "metadata": {
        "id": "Ya606KLNIvUb"
      },
      "source": [
        "data.drop([\"Additional_Info\"],axis=1,inplace=True)"
      ],
      "execution_count": 119,
      "outputs": []
    },
    {
      "cell_type": "code",
      "metadata": {
        "id": "MTFVuT6eQpIu"
      },
      "source": [
        "# Route and Total_Stops does the same thing, hence dropping route\n",
        "\n",
        "data.drop([\"Route\"], axis=1, inplace=True)"
      ],
      "execution_count": 120,
      "outputs": []
    },
    {
      "cell_type": "markdown",
      "metadata": {
        "id": "CWmAheoEI-ow"
      },
      "source": [
        "###Categorical to Numerical Data"
      ]
    },
    {
      "cell_type": "code",
      "metadata": {
        "id": "Fd3qo45eOZvp",
        "outputId": "3af1c0c7-e031-4357-b393-cdafbaece2bb",
        "colab": {
          "base_uri": "https://localhost:8080/",
          "height": 235
        }
      },
      "source": [
        "data['Airline'].value_counts()"
      ],
      "execution_count": 121,
      "outputs": [
        {
          "output_type": "execute_result",
          "data": {
            "text/plain": [
              "Jet Airways                          3700\n",
              "IndiGo                               2043\n",
              "Air India                            1694\n",
              "Multiple carriers                    1196\n",
              "SpiceJet                              815\n",
              "Vistara                               478\n",
              "Air Asia                              319\n",
              "GoAir                                 194\n",
              "Multiple carriers Premium economy      13\n",
              "Jet Airways Business                    6\n",
              "Vistara Premium economy                 3\n",
              "Trujet                                  1\n",
              "Name: Airline, dtype: int64"
            ]
          },
          "metadata": {
            "tags": []
          },
          "execution_count": 121
        }
      ]
    },
    {
      "cell_type": "code",
      "metadata": {
        "id": "RCOuf5qpO2m5",
        "outputId": "bfbe5900-f968-485d-917a-1267cef00f8a",
        "colab": {
          "base_uri": "https://localhost:8080/",
          "height": 382
        }
      },
      "source": [
        "sns.catplot(y=\"Price\", x=\"Airline\", data=data.sort_values(\"Price\",ascending=False),kind=\"boxen\" ,height=5,aspect=3)\n",
        "plt.show()"
      ],
      "execution_count": 122,
      "outputs": [
        {
          "output_type": "display_data",
          "data": {
            "image/png": "[encoded data removed]",
            "text/plain": [
              "<Figure size 1080x360 with 1 Axes>"
            ]
          },
          "metadata": {
            "tags": []
          }
        }
      ]
    },
    {
      "cell_type": "code",
      "metadata": {
        "id": "neH-2mDePLp8",
        "outputId": "c9591970-ab77-4b8e-d4b5-8c6192d99eb8",
        "colab": {
          "base_uri": "https://localhost:8080/",
          "height": 229
        }
      },
      "source": [
        "Airline = data[[\"Airline\"]]\n",
        "\n",
        "Airline = pd.get_dummies(Airline, drop_first= True)  # we will drop first feature which is not required\n",
        "\n",
        "Airline.head()"
      ],
      "execution_count": 123,
      "outputs": [
        {
          "output_type": "execute_result",
          "data": {
            "text/html": [
              "<div>\n",
              "<style scoped>\n",
              "    .dataframe tbody tr th:only-of-type {\n",
              "        vertical-align: middle;\n",
              "    }\n",
              "\n",
              "    .dataframe tbody tr th {\n",
              "        vertical-align: top;\n",
              "    }\n",
              "\n",
              "    .dataframe thead th {\n",
              "        text-align: right;\n",
              "    }\n",
              "</style>\n",
              "<table border=\"1\" class=\"dataframe\">\n",
              "  <thead>\n",
              "    <tr style=\"text-align: right;\">\n",
              "      <th></th>\n",
              "      <th>Airline_Air India</th>\n",
              "      <th>Airline_GoAir</th>\n",
              "      <th>Airline_IndiGo</th>\n",
              "      <th>Airline_Jet Airways</th>\n",
              "      <th>Airline_Jet Airways Business</th>\n",
              "      <th>Airline_Multiple carriers</th>\n",
              "      <th>Airline_Multiple carriers Premium economy</th>\n",
              "      <th>Airline_SpiceJet</th>\n",
              "      <th>Airline_Trujet</th>\n",
              "      <th>Airline_Vistara</th>\n",
              "      <th>Airline_Vistara Premium economy</th>\n",
              "    </tr>\n",
              "  </thead>\n",
              "  <tbody>\n",
              "    <tr>\n",
              "      <th>0</th>\n",
              "      <td>0</td>\n",
              "      <td>0</td>\n",
              "      <td>1</td>\n",
              "      <td>0</td>\n",
              "      <td>0</td>\n",
              "      <td>0</td>\n",
              "      <td>0</td>\n",
              "      <td>0</td>\n",
              "      <td>0</td>\n",
              "      <td>0</td>\n",
              "      <td>0</td>\n",
              "    </tr>\n",
              "    <tr>\n",
              "      <th>1</th>\n",
              "      <td>1</td>\n",
              "      <td>0</td>\n",
              "      <td>0</td>\n",
              "      <td>0</td>\n",
              "      <td>0</td>\n",
              "      <td>0</td>\n",
              "      <td>0</td>\n",
              "      <td>0</td>\n",
              "      <td>0</td>\n",
              "      <td>0</td>\n",
              "      <td>0</td>\n",
              "    </tr>\n",
              "    <tr>\n",
              "      <th>2</th>\n",
              "      <td>0</td>\n",
              "      <td>0</td>\n",
              "      <td>0</td>\n",
              "      <td>1</td>\n",
              "      <td>0</td>\n",
              "      <td>0</td>\n",
              "      <td>0</td>\n",
              "      <td>0</td>\n",
              "      <td>0</td>\n",
              "      <td>0</td>\n",
              "      <td>0</td>\n",
              "    </tr>\n",
              "    <tr>\n",
              "      <th>3</th>\n",
              "      <td>0</td>\n",
              "      <td>0</td>\n",
              "      <td>1</td>\n",
              "      <td>0</td>\n",
              "      <td>0</td>\n",
              "      <td>0</td>\n",
              "      <td>0</td>\n",
              "      <td>0</td>\n",
              "      <td>0</td>\n",
              "      <td>0</td>\n",
              "      <td>0</td>\n",
              "    </tr>\n",
              "    <tr>\n",
              "      <th>4</th>\n",
              "      <td>0</td>\n",
              "      <td>0</td>\n",
              "      <td>1</td>\n",
              "      <td>0</td>\n",
              "      <td>0</td>\n",
              "      <td>0</td>\n",
              "      <td>0</td>\n",
              "      <td>0</td>\n",
              "      <td>0</td>\n",
              "      <td>0</td>\n",
              "      <td>0</td>\n",
              "    </tr>\n",
              "  </tbody>\n",
              "</table>\n",
              "</div>"
            ],
            "text/plain": [
              "   Airline_Air India  ...  Airline_Vistara Premium economy\n",
              "0                  0  ...                                0\n",
              "1                  1  ...                                0\n",
              "2                  0  ...                                0\n",
              "3                  0  ...                                0\n",
              "4                  0  ...                                0\n",
              "\n",
              "[5 rows x 11 columns]"
            ]
          },
          "metadata": {
            "tags": []
          },
          "execution_count": 123
        }
      ]
    },
    {
      "cell_type": "code",
      "metadata": {
        "id": "NC1rM9TwPvEk",
        "outputId": "c9b539a1-0a5c-4258-dde2-fd2d6c6e3e14",
        "colab": {
          "base_uri": "https://localhost:8080/",
          "height": 118
        }
      },
      "source": [
        "data[\"Source\"].value_counts()"
      ],
      "execution_count": 124,
      "outputs": [
        {
          "output_type": "execute_result",
          "data": {
            "text/plain": [
              "Delhi       4345\n",
              "Kolkata     2860\n",
              "Banglore    2179\n",
              "Mumbai       697\n",
              "Chennai      381\n",
              "Name: Source, dtype: int64"
            ]
          },
          "metadata": {
            "tags": []
          },
          "execution_count": 124
        }
      ]
    },
    {
      "cell_type": "code",
      "metadata": {
        "id": "n6IRwfC8PyUU",
        "outputId": "cab4b61f-f59a-4f78-dfd5-730e21fcbb01",
        "colab": {
          "base_uri": "https://localhost:8080/",
          "height": 382
        }
      },
      "source": [
        "sns.catplot(x = \"Source\",y = \"Price\", data = data.sort_values(\"Price\", ascending = False), kind=\"boxen\", height = 5, aspect = 3)\n",
        "plt.show()"
      ],
      "execution_count": 125,
      "outputs": [
        {
          "output_type": "display_data",
          "data": {
            "image/png": "[encoded data removed]",
            "text/plain": [
              "<Figure size 1080x360 with 1 Axes>"
            ]
          },
          "metadata": {
            "tags": []
          }
        }
      ]
    },
    {
      "cell_type": "code",
      "metadata": {
        "id": "VMzOS3AAP3uw",
        "outputId": "9571a697-6386-48a0-8ef7-7c5eca39bfd9",
        "colab": {
          "base_uri": "https://localhost:8080/",
          "height": 195
        }
      },
      "source": [
        "Source = data[[\"Source\"]]\n",
        "\n",
        "Source = pd.get_dummies(Source, drop_first= True)\n",
        "\n",
        "Source.head()"
      ],
      "execution_count": 126,
      "outputs": [
        {
          "output_type": "execute_result",
          "data": {
            "text/html": [
              "<div>\n",
              "<style scoped>\n",
              "    .dataframe tbody tr th:only-of-type {\n",
              "        vertical-align: middle;\n",
              "    }\n",
              "\n",
              "    .dataframe tbody tr th {\n",
              "        vertical-align: top;\n",
              "    }\n",
              "\n",
              "    .dataframe thead th {\n",
              "        text-align: right;\n",
              "    }\n",
              "</style>\n",
              "<table border=\"1\" class=\"dataframe\">\n",
              "  <thead>\n",
              "    <tr style=\"text-align: right;\">\n",
              "      <th></th>\n",
              "      <th>Source_Chennai</th>\n",
              "      <th>Source_Delhi</th>\n",
              "      <th>Source_Kolkata</th>\n",
              "      <th>Source_Mumbai</th>\n",
              "    </tr>\n",
              "  </thead>\n",
              "  <tbody>\n",
              "    <tr>\n",
              "      <th>0</th>\n",
              "      <td>0</td>\n",
              "      <td>0</td>\n",
              "      <td>0</td>\n",
              "      <td>0</td>\n",
              "    </tr>\n",
              "    <tr>\n",
              "      <th>1</th>\n",
              "      <td>0</td>\n",
              "      <td>0</td>\n",
              "      <td>1</td>\n",
              "      <td>0</td>\n",
              "    </tr>\n",
              "    <tr>\n",
              "      <th>2</th>\n",
              "      <td>0</td>\n",
              "      <td>1</td>\n",
              "      <td>0</td>\n",
              "      <td>0</td>\n",
              "    </tr>\n",
              "    <tr>\n",
              "      <th>3</th>\n",
              "      <td>0</td>\n",
              "      <td>0</td>\n",
              "      <td>1</td>\n",
              "      <td>0</td>\n",
              "    </tr>\n",
              "    <tr>\n",
              "      <th>4</th>\n",
              "      <td>0</td>\n",
              "      <td>0</td>\n",
              "      <td>0</td>\n",
              "      <td>0</td>\n",
              "    </tr>\n",
              "  </tbody>\n",
              "</table>\n",
              "</div>"
            ],
            "text/plain": [
              "   Source_Chennai  Source_Delhi  Source_Kolkata  Source_Mumbai\n",
              "0               0             0               0              0\n",
              "1               0             0               1              0\n",
              "2               0             1               0              0\n",
              "3               0             0               1              0\n",
              "4               0             0               0              0"
            ]
          },
          "metadata": {
            "tags": []
          },
          "execution_count": 126
        }
      ]
    },
    {
      "cell_type": "code",
      "metadata": {
        "id": "me2zynjuQBFf",
        "outputId": "86368ba1-c44e-46f7-ad05-a9f8849ebf8e",
        "colab": {
          "base_uri": "https://localhost:8080/",
          "height": 134
        }
      },
      "source": [
        "data[\"Destination\"].value_counts()"
      ],
      "execution_count": 127,
      "outputs": [
        {
          "output_type": "execute_result",
          "data": {
            "text/plain": [
              "Cochin       4345\n",
              "Banglore     2860\n",
              "Delhi        1265\n",
              "New Delhi     914\n",
              "Hyderabad     697\n",
              "Kolkata       381\n",
              "Name: Destination, dtype: int64"
            ]
          },
          "metadata": {
            "tags": []
          },
          "execution_count": 127
        }
      ]
    },
    {
      "cell_type": "code",
      "metadata": {
        "id": "HD0hSQ7xQF62",
        "outputId": "93fa113d-e220-4841-94e2-88a9b198224a",
        "colab": {
          "base_uri": "https://localhost:8080/",
          "height": 454
        }
      },
      "source": [
        "sns.catplot(y = \"Price\", x = \"Destination\", data = data.sort_values(\"Price\", ascending = False), kind=\"boxen\", height = 6, aspect = 3)\n",
        "plt.show()"
      ],
      "execution_count": 128,
      "outputs": [
        {
          "output_type": "display_data",
          "data": {
            "image/png": "[encoded data removed]",
            "text/plain": [
              "<Figure size 1296x432 with 1 Axes>"
            ]
          },
          "metadata": {
            "tags": []
          }
        }
      ]
    },
    {
      "cell_type": "code",
      "metadata": {
        "id": "Yqtgzt2PQLbB",
        "outputId": "d422b67a-5b00-4d8f-f516-48c3f0aec9cc",
        "colab": {
          "base_uri": "https://localhost:8080/",
          "height": 195
        }
      },
      "source": [
        "Destination = data[['Destination']]\n",
        "Destination = pd.get_dummies(Destination , drop_first = True)\n",
        "Destination.head()"
      ],
      "execution_count": 129,
      "outputs": [
        {
          "output_type": "execute_result",
          "data": {
            "text/html": [
              "<div>\n",
              "<style scoped>\n",
              "    .dataframe tbody tr th:only-of-type {\n",
              "        vertical-align: middle;\n",
              "    }\n",
              "\n",
              "    .dataframe tbody tr th {\n",
              "        vertical-align: top;\n",
              "    }\n",
              "\n",
              "    .dataframe thead th {\n",
              "        text-align: right;\n",
              "    }\n",
              "</style>\n",
              "<table border=\"1\" class=\"dataframe\">\n",
              "  <thead>\n",
              "    <tr style=\"text-align: right;\">\n",
              "      <th></th>\n",
              "      <th>Destination_Cochin</th>\n",
              "      <th>Destination_Delhi</th>\n",
              "      <th>Destination_Hyderabad</th>\n",
              "      <th>Destination_Kolkata</th>\n",
              "      <th>Destination_New Delhi</th>\n",
              "    </tr>\n",
              "  </thead>\n",
              "  <tbody>\n",
              "    <tr>\n",
              "      <th>0</th>\n",
              "      <td>0</td>\n",
              "      <td>0</td>\n",
              "      <td>0</td>\n",
              "      <td>0</td>\n",
              "      <td>1</td>\n",
              "    </tr>\n",
              "    <tr>\n",
              "      <th>1</th>\n",
              "      <td>0</td>\n",
              "      <td>0</td>\n",
              "      <td>0</td>\n",
              "      <td>0</td>\n",
              "      <td>0</td>\n",
              "    </tr>\n",
              "    <tr>\n",
              "      <th>2</th>\n",
              "      <td>1</td>\n",
              "      <td>0</td>\n",
              "      <td>0</td>\n",
              "      <td>0</td>\n",
              "      <td>0</td>\n",
              "    </tr>\n",
              "    <tr>\n",
              "      <th>3</th>\n",
              "      <td>0</td>\n",
              "      <td>0</td>\n",
              "      <td>0</td>\n",
              "      <td>0</td>\n",
              "      <td>0</td>\n",
              "    </tr>\n",
              "    <tr>\n",
              "      <th>4</th>\n",
              "      <td>0</td>\n",
              "      <td>0</td>\n",
              "      <td>0</td>\n",
              "      <td>0</td>\n",
              "      <td>1</td>\n",
              "    </tr>\n",
              "  </tbody>\n",
              "</table>\n",
              "</div>"
            ],
            "text/plain": [
              "   Destination_Cochin  ...  Destination_New Delhi\n",
              "0                   0  ...                      1\n",
              "1                   0  ...                      0\n",
              "2                   1  ...                      0\n",
              "3                   0  ...                      0\n",
              "4                   0  ...                      1\n",
              "\n",
              "[5 rows x 5 columns]"
            ]
          },
          "metadata": {
            "tags": []
          },
          "execution_count": 129
        }
      ]
    },
    {
      "cell_type": "code",
      "metadata": {
        "id": "PjcTVPMmQYmD"
      },
      "source": [
        "# Concatenate the above dataframes with original data\n",
        "data = pd.concat([data ,Airline,Source,Destination] ,axis=1)"
      ],
      "execution_count": 130,
      "outputs": []
    },
    {
      "cell_type": "code",
      "metadata": {
        "id": "RTWP724RRR1w",
        "outputId": "98f54ce3-061c-4019-e8bf-a419d8feeed9",
        "colab": {
          "base_uri": "https://localhost:8080/",
          "height": 249
        }
      },
      "source": [
        "# Dropping the Airline, Source, Destination Columns\n",
        "\n",
        "data.drop([\"Airline\" , \"Source\", \"Destination\"] ,  axis=1 , inplace =True)\n",
        "data.head()"
      ],
      "execution_count": 131,
      "outputs": [
        {
          "output_type": "execute_result",
          "data": {
            "text/html": [
              "<div>\n",
              "<style scoped>\n",
              "    .dataframe tbody tr th:only-of-type {\n",
              "        vertical-align: middle;\n",
              "    }\n",
              "\n",
              "    .dataframe tbody tr th {\n",
              "        vertical-align: top;\n",
              "    }\n",
              "\n",
              "    .dataframe thead th {\n",
              "        text-align: right;\n",
              "    }\n",
              "</style>\n",
              "<table border=\"1\" class=\"dataframe\">\n",
              "  <thead>\n",
              "    <tr style=\"text-align: right;\">\n",
              "      <th></th>\n",
              "      <th>Duration</th>\n",
              "      <th>Total_Stops</th>\n",
              "      <th>Price</th>\n",
              "      <th>Date</th>\n",
              "      <th>Month</th>\n",
              "      <th>Year</th>\n",
              "      <th>Arrival_hour</th>\n",
              "      <th>Arrival_min</th>\n",
              "      <th>Dep_hour</th>\n",
              "      <th>Dep_min</th>\n",
              "      <th>Airline_Air India</th>\n",
              "      <th>Airline_GoAir</th>\n",
              "      <th>Airline_IndiGo</th>\n",
              "      <th>Airline_Jet Airways</th>\n",
              "      <th>Airline_Jet Airways Business</th>\n",
              "      <th>Airline_Multiple carriers</th>\n",
              "      <th>Airline_Multiple carriers Premium economy</th>\n",
              "      <th>Airline_SpiceJet</th>\n",
              "      <th>Airline_Trujet</th>\n",
              "      <th>Airline_Vistara</th>\n",
              "      <th>Airline_Vistara Premium economy</th>\n",
              "      <th>Source_Chennai</th>\n",
              "      <th>Source_Delhi</th>\n",
              "      <th>Source_Kolkata</th>\n",
              "      <th>Source_Mumbai</th>\n",
              "      <th>Destination_Cochin</th>\n",
              "      <th>Destination_Delhi</th>\n",
              "      <th>Destination_Hyderabad</th>\n",
              "      <th>Destination_Kolkata</th>\n",
              "      <th>Destination_New Delhi</th>\n",
              "    </tr>\n",
              "  </thead>\n",
              "  <tbody>\n",
              "    <tr>\n",
              "      <th>0</th>\n",
              "      <td>170</td>\n",
              "      <td>1</td>\n",
              "      <td>3897</td>\n",
              "      <td>24</td>\n",
              "      <td>3</td>\n",
              "      <td>2019</td>\n",
              "      <td>1</td>\n",
              "      <td>10</td>\n",
              "      <td>22</td>\n",
              "      <td>20</td>\n",
              "      <td>0</td>\n",
              "      <td>0</td>\n",
              "      <td>1</td>\n",
              "      <td>0</td>\n",
              "      <td>0</td>\n",
              "      <td>0</td>\n",
              "      <td>0</td>\n",
              "      <td>0</td>\n",
              "      <td>0</td>\n",
              "      <td>0</td>\n",
              "      <td>0</td>\n",
              "      <td>0</td>\n",
              "      <td>0</td>\n",
              "      <td>0</td>\n",
              "      <td>0</td>\n",
              "      <td>0</td>\n",
              "      <td>0</td>\n",
              "      <td>0</td>\n",
              "      <td>0</td>\n",
              "      <td>1</td>\n",
              "    </tr>\n",
              "    <tr>\n",
              "      <th>1</th>\n",
              "      <td>445</td>\n",
              "      <td>2</td>\n",
              "      <td>7662</td>\n",
              "      <td>1</td>\n",
              "      <td>5</td>\n",
              "      <td>2019</td>\n",
              "      <td>13</td>\n",
              "      <td>15</td>\n",
              "      <td>5</td>\n",
              "      <td>50</td>\n",
              "      <td>1</td>\n",
              "      <td>0</td>\n",
              "      <td>0</td>\n",
              "      <td>0</td>\n",
              "      <td>0</td>\n",
              "      <td>0</td>\n",
              "      <td>0</td>\n",
              "      <td>0</td>\n",
              "      <td>0</td>\n",
              "      <td>0</td>\n",
              "      <td>0</td>\n",
              "      <td>0</td>\n",
              "      <td>0</td>\n",
              "      <td>1</td>\n",
              "      <td>0</td>\n",
              "      <td>0</td>\n",
              "      <td>0</td>\n",
              "      <td>0</td>\n",
              "      <td>0</td>\n",
              "      <td>0</td>\n",
              "    </tr>\n",
              "    <tr>\n",
              "      <th>2</th>\n",
              "      <td>1140</td>\n",
              "      <td>2</td>\n",
              "      <td>13882</td>\n",
              "      <td>9</td>\n",
              "      <td>6</td>\n",
              "      <td>2019</td>\n",
              "      <td>4</td>\n",
              "      <td>25</td>\n",
              "      <td>9</td>\n",
              "      <td>25</td>\n",
              "      <td>0</td>\n",
              "      <td>0</td>\n",
              "      <td>0</td>\n",
              "      <td>1</td>\n",
              "      <td>0</td>\n",
              "      <td>0</td>\n",
              "      <td>0</td>\n",
              "      <td>0</td>\n",
              "      <td>0</td>\n",
              "      <td>0</td>\n",
              "      <td>0</td>\n",
              "      <td>0</td>\n",
              "      <td>1</td>\n",
              "      <td>0</td>\n",
              "      <td>0</td>\n",
              "      <td>1</td>\n",
              "      <td>0</td>\n",
              "      <td>0</td>\n",
              "      <td>0</td>\n",
              "      <td>0</td>\n",
              "    </tr>\n",
              "    <tr>\n",
              "      <th>3</th>\n",
              "      <td>325</td>\n",
              "      <td>0</td>\n",
              "      <td>6218</td>\n",
              "      <td>12</td>\n",
              "      <td>5</td>\n",
              "      <td>2019</td>\n",
              "      <td>23</td>\n",
              "      <td>30</td>\n",
              "      <td>18</td>\n",
              "      <td>5</td>\n",
              "      <td>0</td>\n",
              "      <td>0</td>\n",
              "      <td>1</td>\n",
              "      <td>0</td>\n",
              "      <td>0</td>\n",
              "      <td>0</td>\n",
              "      <td>0</td>\n",
              "      <td>0</td>\n",
              "      <td>0</td>\n",
              "      <td>0</td>\n",
              "      <td>0</td>\n",
              "      <td>0</td>\n",
              "      <td>0</td>\n",
              "      <td>1</td>\n",
              "      <td>0</td>\n",
              "      <td>0</td>\n",
              "      <td>0</td>\n",
              "      <td>0</td>\n",
              "      <td>0</td>\n",
              "      <td>0</td>\n",
              "    </tr>\n",
              "    <tr>\n",
              "      <th>4</th>\n",
              "      <td>285</td>\n",
              "      <td>0</td>\n",
              "      <td>13302</td>\n",
              "      <td>1</td>\n",
              "      <td>3</td>\n",
              "      <td>2019</td>\n",
              "      <td>21</td>\n",
              "      <td>35</td>\n",
              "      <td>16</td>\n",
              "      <td>50</td>\n",
              "      <td>0</td>\n",
              "      <td>0</td>\n",
              "      <td>1</td>\n",
              "      <td>0</td>\n",
              "      <td>0</td>\n",
              "      <td>0</td>\n",
              "      <td>0</td>\n",
              "      <td>0</td>\n",
              "      <td>0</td>\n",
              "      <td>0</td>\n",
              "      <td>0</td>\n",
              "      <td>0</td>\n",
              "      <td>0</td>\n",
              "      <td>0</td>\n",
              "      <td>0</td>\n",
              "      <td>0</td>\n",
              "      <td>0</td>\n",
              "      <td>0</td>\n",
              "      <td>0</td>\n",
              "      <td>1</td>\n",
              "    </tr>\n",
              "  </tbody>\n",
              "</table>\n",
              "</div>"
            ],
            "text/plain": [
              "   Duration  Total_Stops  ...  Destination_Kolkata  Destination_New Delhi\n",
              "0       170            1  ...                    0                      1\n",
              "1       445            2  ...                    0                      0\n",
              "2      1140            2  ...                    0                      0\n",
              "3       325            0  ...                    0                      0\n",
              "4       285            0  ...                    0                      1\n",
              "\n",
              "[5 rows x 30 columns]"
            ]
          },
          "metadata": {
            "tags": []
          },
          "execution_count": 131
        }
      ]
    },
    {
      "cell_type": "code",
      "metadata": {
        "id": "034VWv70RZTc",
        "outputId": "3198b5fe-58f2-4e90-dafd-83152cd233f5",
        "colab": {
          "base_uri": "https://localhost:8080/",
          "height": 638
        }
      },
      "source": [
        "data.info()"
      ],
      "execution_count": 132,
      "outputs": [
        {
          "output_type": "stream",
          "text": [
            "<class 'pandas.core.frame.DataFrame'>\n",
            "Int64Index: 10462 entries, 0 to 10682\n",
            "Data columns (total 30 columns):\n",
            " #   Column                                     Non-Null Count  Dtype\n",
            "---  ------                                     --------------  -----\n",
            " 0   Duration                                   10462 non-null  int64\n",
            " 1   Total_Stops                                10462 non-null  int64\n",
            " 2   Price                                      10462 non-null  int64\n",
            " 3   Date                                       10462 non-null  int64\n",
            " 4   Month                                      10462 non-null  int64\n",
            " 5   Year                                       10462 non-null  int64\n",
            " 6   Arrival_hour                               10462 non-null  int64\n",
            " 7   Arrival_min                                10462 non-null  int64\n",
            " 8   Dep_hour                                   10462 non-null  int64\n",
            " 9   Dep_min                                    10462 non-null  int64\n",
            " 10  Airline_Air India                          10462 non-null  uint8\n",
            " 11  Airline_GoAir                              10462 non-null  uint8\n",
            " 12  Airline_IndiGo                             10462 non-null  uint8\n",
            " 13  Airline_Jet Airways                        10462 non-null  uint8\n",
            " 14  Airline_Jet Airways Business               10462 non-null  uint8\n",
            " 15  Airline_Multiple carriers                  10462 non-null  uint8\n",
            " 16  Airline_Multiple carriers Premium economy  10462 non-null  uint8\n",
            " 17  Airline_SpiceJet                           10462 non-null  uint8\n",
            " 18  Airline_Trujet                             10462 non-null  uint8\n",
            " 19  Airline_Vistara                            10462 non-null  uint8\n",
            " 20  Airline_Vistara Premium economy            10462 non-null  uint8\n",
            " 21  Source_Chennai                             10462 non-null  uint8\n",
            " 22  Source_Delhi                               10462 non-null  uint8\n",
            " 23  Source_Kolkata                             10462 non-null  uint8\n",
            " 24  Source_Mumbai                              10462 non-null  uint8\n",
            " 25  Destination_Cochin                         10462 non-null  uint8\n",
            " 26  Destination_Delhi                          10462 non-null  uint8\n",
            " 27  Destination_Hyderabad                      10462 non-null  uint8\n",
            " 28  Destination_Kolkata                        10462 non-null  uint8\n",
            " 29  Destination_New Delhi                      10462 non-null  uint8\n",
            "dtypes: int64(10), uint8(20)\n",
            "memory usage: 1.1 MB\n"
          ],
          "name": "stdout"
        }
      ]
    },
    {
      "cell_type": "code",
      "metadata": {
        "id": "hz8yhAy4R3eS",
        "outputId": "77c4eb15-96e3-4dbd-aea4-4f7b95fe22e7",
        "colab": {
          "base_uri": "https://localhost:8080/",
          "height": 34
        }
      },
      "source": [
        "data.shape"
      ],
      "execution_count": 133,
      "outputs": [
        {
          "output_type": "execute_result",
          "data": {
            "text/plain": [
              "(10462, 30)"
            ]
          },
          "metadata": {
            "tags": []
          },
          "execution_count": 133
        }
      ]
    },
    {
      "cell_type": "markdown",
      "metadata": {
        "id": "mGwLpAAWR7F_"
      },
      "source": [
        "### Building Machine Learning Models"
      ]
    },
    {
      "cell_type": "code",
      "metadata": {
        "id": "bFErcba2SPAK"
      },
      "source": [
        "from sklearn.model_selection import train_test_split\n",
        "from sklearn.metrics import mean_squared_error\n",
        "from sklearn.metrics import r2_score\n",
        "from sklearn.model_selection import GridSearchCV\n",
        "from sklearn.model_selection import RandomizedSearchCV"
      ],
      "execution_count": 134,
      "outputs": []
    },
    {
      "cell_type": "code",
      "metadata": {
        "id": "QTUSc43Rgojp"
      },
      "source": [
        "# Splitting the Dataset\n",
        "from sklearn.model_selection import train_test_split\n",
        "y=data[\"Price\"]\n",
        "data.drop([\"Price\"],axis=1,inplace=True)\n",
        "X=data\n",
        "X_train, X_test, y_train, y_test = train_test_split(X, y, test_size = 0.3, random_state = 42)"
      ],
      "execution_count": 135,
      "outputs": []
    },
    {
      "cell_type": "code",
      "metadata": {
        "id": "oWCoSB3ajW5R"
      },
      "source": [
        "def rmse(y_test,y_pred):\n",
        "  return np.sqrt(mean_squared_error(y_test,y_pred))"
      ],
      "execution_count": 136,
      "outputs": []
    },
    {
      "cell_type": "code",
      "metadata": {
        "id": "JH_bILoSnFVq"
      },
      "source": [
        "def mean_absolute_percentage_error(y_test, y_pred): \n",
        "    return np.mean(np.abs((y_test - y_pred) / y_test)) * 100"
      ],
      "execution_count": 137,
      "outputs": []
    },
    {
      "cell_type": "markdown",
      "metadata": {
        "id": "YT7Q9Th2hx3-"
      },
      "source": [
        "## 1. Linear Regression"
      ]
    },
    {
      "cell_type": "code",
      "metadata": {
        "id": "0Nr9M3eCh7Ya",
        "outputId": "2d98db7f-3aee-49aa-95bd-b70a843441a2",
        "colab": {
          "base_uri": "https://localhost:8080/",
          "height": 67
        }
      },
      "source": [
        "from sklearn.linear_model import LinearRegression\n",
        "\n",
        "LR=LinearRegression()\n",
        "#Training\n",
        "LR.fit(X_train,y_train)\n",
        "\n",
        "#Prediction\n",
        "y_pred_LR=LR.predict(X_test)\n",
        "\n",
        "#Evaluation\n",
        "eval1=[rmse(y_test,y_pred_LR),r2_score(y_test,y_pred_LR),mean_absolute_percentage_error(y_test,y_pred_LR)]\n",
        "print(\"Root Mean Squared Error = {}\".format(rmse(y_test,y_pred_LR)))\n",
        "print(\"r2 score = {}\".format(r2_score(y_test,y_pred_LR)))\n",
        "print(\"Mean Absolute Percentage Error = {}%\".format(round(mean_absolute_percentage_error(y_test,y_pred_LR))))\n"
      ],
      "execution_count": 158,
      "outputs": [
        {
          "output_type": "stream",
          "text": [
            "Root Mean Squared Error = 3008.5529450096947\n",
            "r2 score = 0.5641788455760792\n",
            "Mean Absolute Percentage Error = 27%\n"
          ],
          "name": "stdout"
        }
      ]
    },
    {
      "cell_type": "markdown",
      "metadata": {
        "id": "n-R9LoYzlT6v"
      },
      "source": [
        "##2. Ridge Regression"
      ]
    },
    {
      "cell_type": "code",
      "metadata": {
        "id": "mklja4hGmAnS",
        "outputId": "24cf5c3e-02f6-4845-9117-b47337b5fcaf",
        "colab": {
          "base_uri": "https://localhost:8080/",
          "height": 168
        }
      },
      "source": [
        "from sklearn.linear_model import Ridge\n",
        "ridge=Ridge()\n",
        "parameters={'alpha' :[0.0001, 0.0009, 0.001, 0.05, 0.01, 0.1, 1, 10, 50, 80, 100, 500, 1000, 10000, 100000]}\n",
        "ridge_regression=GridSearchCV(ridge,parameters,scoring=\"neg_mean_squared_error\",cv=5)\n",
        "ridge_regression.fit(X_train,y_train)"
      ],
      "execution_count": 139,
      "outputs": [
        {
          "output_type": "execute_result",
          "data": {
            "text/plain": [
              "GridSearchCV(cv=5, error_score=nan,\n",
              "             estimator=Ridge(alpha=1.0, copy_X=True, fit_intercept=True,\n",
              "                             max_iter=None, normalize=False, random_state=None,\n",
              "                             solver='auto', tol=0.001),\n",
              "             iid='deprecated', n_jobs=None,\n",
              "             param_grid={'alpha': [0.0001, 0.0009, 0.001, 0.05, 0.01, 0.1, 1,\n",
              "                                   10, 50, 80, 100, 500, 1000, 10000, 100000]},\n",
              "             pre_dispatch='2*n_jobs', refit=True, return_train_score=False,\n",
              "             scoring='neg_mean_squared_error', verbose=0)"
            ]
          },
          "metadata": {
            "tags": []
          },
          "execution_count": 139
        }
      ]
    },
    {
      "cell_type": "code",
      "metadata": {
        "id": "-O75NwkBoY1v"
      },
      "source": [
        "y_pred_ridge=ridge_regression.predict(X_test)"
      ],
      "execution_count": 140,
      "outputs": []
    },
    {
      "cell_type": "code",
      "metadata": {
        "id": "-6NOOnlHn8y2",
        "outputId": "0c936f9e-3683-4847-d97c-e0bbab3b9b89",
        "colab": {
          "base_uri": "https://localhost:8080/",
          "height": 67
        }
      },
      "source": [
        "print(\"Root Mean Squared Error = {}\".format(np.sqrt(-ridge_regression.best_score_)))\n",
        "print(\"r2 score = {}\".format(r2_score(y_test,y_pred_ridge)))\n",
        "print(\"Mean Absolute Percentage Error = {}%\".format(round(mean_absolute_percentage_error(y_test,y_pred_ridge))))\n",
        "eval2=[np.sqrt(-ridge_regression.best_score_),r2_score(y_test,y_pred_ridge),round(mean_absolute_percentage_error(y_test,y_pred_ridge))]"
      ],
      "execution_count": 159,
      "outputs": [
        {
          "output_type": "stream",
          "text": [
            "Root Mean Squared Error = 3024.027319709857\n",
            "r2 score = 0.5641787167290976\n",
            "Mean Absolute Percentage Error = 27%\n"
          ],
          "name": "stdout"
        }
      ]
    },
    {
      "cell_type": "markdown",
      "metadata": {
        "id": "zkqc6UMO2bZU"
      },
      "source": [
        "## 3. Lasso Regression"
      ]
    },
    {
      "cell_type": "code",
      "metadata": {
        "id": "A_MJDyUUNg94",
        "outputId": "34fe7d1d-0893-4293-d650-90e610befdbb",
        "colab": {
          "base_uri": "https://localhost:8080/",
          "height": 168
        }
      },
      "source": [
        "from sklearn.linear_model import Lasso\n",
        "params ={'alpha' :[0.0001, 0.001, 0.01, 0.1, 1, 10, 100, 1000]}\n",
        "lasso_regressor =GridSearchCV(Lasso(), params ,cv =5,scoring = 'neg_mean_absolute_error', n_jobs =-1)\n",
        "lasso_regressor.fit(X_train ,y_train)"
      ],
      "execution_count": 142,
      "outputs": [
        {
          "output_type": "execute_result",
          "data": {
            "text/plain": [
              "GridSearchCV(cv=5, error_score=nan,\n",
              "             estimator=Lasso(alpha=1.0, copy_X=True, fit_intercept=True,\n",
              "                             max_iter=1000, normalize=False, positive=False,\n",
              "                             precompute=False, random_state=None,\n",
              "                             selection='cyclic', tol=0.0001, warm_start=False),\n",
              "             iid='deprecated', n_jobs=-1,\n",
              "             param_grid={'alpha': [0.0001, 0.001, 0.01, 0.1, 1, 10, 100, 1000]},\n",
              "             pre_dispatch='2*n_jobs', refit=True, return_train_score=False,\n",
              "             scoring='neg_mean_absolute_error', verbose=0)"
            ]
          },
          "metadata": {
            "tags": []
          },
          "execution_count": 142
        }
      ]
    },
    {
      "cell_type": "code",
      "metadata": {
        "id": "LoOx8BJnVJFv"
      },
      "source": [
        "y_pred_lasso =lasso_regressor.predict(X_test)"
      ],
      "execution_count": 143,
      "outputs": []
    },
    {
      "cell_type": "code",
      "metadata": {
        "id": "5qSuSukZXJgc",
        "outputId": "07ee9b91-a640-47da-dee8-be743edac048",
        "colab": {
          "base_uri": "https://localhost:8080/",
          "height": 67
        }
      },
      "source": [
        "print(\"Root Mean Squared Error = {}\".format(rmse(y_test,y_pred_lasso)))\n",
        "print(\"r2 score = {}\".format(r2_score(y_test,y_pred_lasso)))\n",
        "print(\"Mean Absolute Percentage Error = {}%\".format(round(mean_absolute_percentage_error(y_test,y_pred_lasso))))\n",
        "eval3=[rmse(y_test,y_pred_lasso),r2_score(y_test,y_pred_lasso),round(mean_absolute_percentage_error(y_test,y_pred_lasso))]"
      ],
      "execution_count": 160,
      "outputs": [
        {
          "output_type": "stream",
          "text": [
            "Root Mean Squared Error = 3010.271116923256\n",
            "r2 score = 0.5636809121819895\n",
            "Mean Absolute Percentage Error = 27%\n"
          ],
          "name": "stdout"
        }
      ]
    },
    {
      "cell_type": "markdown",
      "metadata": {
        "id": "yh9nbVIQublN"
      },
      "source": [
        "## 4. Multi-layer Perceptron"
      ]
    },
    {
      "cell_type": "code",
      "metadata": {
        "id": "jbzxqrxkuiqE",
        "outputId": "8196e491-6714-4a40-c459-3aece17bdf1f",
        "colab": {
          "base_uri": "https://localhost:8080/",
          "height": 67
        }
      },
      "source": [
        "from sklearn.neural_network import MLPRegressor\n",
        "from sklearn.preprocessing import StandardScaler\n",
        "ss=StandardScaler()\n",
        "X_train_scaled=ss.fit_transform(X_train)\n",
        "X_test_scaled=ss.transform(X_test)\n",
        "MLP = MLPRegressor(hidden_layer_sizes=(64,64,64),activation=\"relu\" ,random_state=1, max_iter=2000).fit(X_train_scaled, y_train)\n",
        "y_pred_MLP=MLP.predict(X_test_scaled)\n",
        "print(\"Root Mean Squared Error = {}\".format(rmse(y_test,y_pred_MLP)))\n",
        "print(\"r2 score = {}\".format(r2_score(y_test,y_pred_MLP)))\n",
        "print(\"Mean Absolute Percentage Error = {}%\".format(round(mean_absolute_percentage_error(y_test,y_pred_MLP))))\n",
        "eval4=[rmse(y_test,y_pred_MLP),r2_score(y_test,y_pred_MLP),round(mean_absolute_percentage_error(y_test,y_pred_MLP))]"
      ],
      "execution_count": 161,
      "outputs": [
        {
          "output_type": "stream",
          "text": [
            "Root Mean Squared Error = 2094.0857931269775\n",
            "r2 score = 0.7888544512859219\n",
            "Mean Absolute Percentage Error = 17%\n"
          ],
          "name": "stdout"
        }
      ]
    },
    {
      "cell_type": "markdown",
      "metadata": {
        "id": "9nnY3hrkvc5D"
      },
      "source": [
        "## 5. Random Forest Regressor"
      ]
    },
    {
      "cell_type": "code",
      "metadata": {
        "id": "FkkwbFc1vgT1",
        "outputId": "97724db7-da21-44c2-a1a5-feeeb4af014c",
        "colab": {
          "base_uri": "https://localhost:8080/",
          "height": 437
        }
      },
      "source": [
        "from sklearn.ensemble import RandomForestRegressor\n",
        "params={'n_estimators': [100, 200, 300, 400, 500], 'min_samples_split': [2, 5, 10], 'min_samples_leaf': [1, 2, 4]}\n",
        "forest_regressor = RandomizedSearchCV(RandomForestRegressor(), params, n_iter = 20, scoring = 'neg_mean_absolute_error', cv = 5, n_jobs = -1)\n",
        "forest_regressor.fit(X_train, y_train)"
      ],
      "execution_count": 148,
      "outputs": [
        {
          "output_type": "execute_result",
          "data": {
            "text/plain": [
              "RandomizedSearchCV(cv=5, error_score=nan,\n",
              "                   estimator=RandomForestRegressor(bootstrap=True,\n",
              "                                                   ccp_alpha=0.0,\n",
              "                                                   criterion='mse',\n",
              "                                                   max_depth=None,\n",
              "                                                   max_features='auto',\n",
              "                                                   max_leaf_nodes=None,\n",
              "                                                   max_samples=None,\n",
              "                                                   min_impurity_decrease=0.0,\n",
              "                                                   min_impurity_split=None,\n",
              "                                                   min_samples_leaf=1,\n",
              "                                                   min_samples_split=2,\n",
              "                                                   min_weight_fraction_leaf=0.0,\n",
              "                                                   n_estimators=100,\n",
              "                                                   n_jobs=None, oob_score=False,\n",
              "                                                   random_state=None, verbose=0,\n",
              "                                                   warm_start=False),\n",
              "                   iid='deprecated', n_iter=20, n_jobs=-1,\n",
              "                   param_distributions={'min_samples_leaf': [1, 2, 4],\n",
              "                                        'min_samples_split': [2, 5, 10],\n",
              "                                        'n_estimators': [100, 200, 300, 400,\n",
              "                                                         500]},\n",
              "                   pre_dispatch='2*n_jobs', random_state=None, refit=True,\n",
              "                   return_train_score=False, scoring='neg_mean_absolute_error',\n",
              "                   verbose=0)"
            ]
          },
          "metadata": {
            "tags": []
          },
          "execution_count": 148
        }
      ]
    },
    {
      "cell_type": "code",
      "metadata": {
        "id": "kJtVUZsrwWc7"
      },
      "source": [
        "y_pred_forest=forest_regressor.predict(X_test)\n"
      ],
      "execution_count": 149,
      "outputs": []
    },
    {
      "cell_type": "code",
      "metadata": {
        "id": "6ROUBDRVyKaG",
        "outputId": "9ad1196b-2355-4d0b-95bb-dd247e24ce38",
        "colab": {
          "base_uri": "https://localhost:8080/",
          "height": 67
        }
      },
      "source": [
        "print(\"Root Mean Squared Error = {}\".format(rmse(y_test,y_pred_forest)))\n",
        "print(\"r2 score = {}\".format(r2_score(y_test,y_pred_forest)))\n",
        "print(\"Mean Absolute Percentage Error = {}%\".format(round(mean_absolute_percentage_error(y_test,y_pred_forest))))\n",
        "eval5=[rmse(y_test,y_pred_forest),r2_score(y_test,y_pred_forest),round(mean_absolute_percentage_error(y_test,y_pred_forest))]"
      ],
      "execution_count": 162,
      "outputs": [
        {
          "output_type": "stream",
          "text": [
            "Root Mean Squared Error = 1891.357341382289\n",
            "r2 score = 0.8277575602758914\n",
            "Mean Absolute Percentage Error = 13%\n"
          ],
          "name": "stdout"
        }
      ]
    },
    {
      "cell_type": "markdown",
      "metadata": {
        "id": "r4_r-61wyWm_"
      },
      "source": [
        "##6. XGBoost"
      ]
    },
    {
      "cell_type": "code",
      "metadata": {
        "id": "3SGCoVuHygHD",
        "outputId": "159fbd72-93de-4031-a7e0-382fdfadd098",
        "colab": {
          "base_uri": "https://localhost:8080/",
          "height": 437
        }
      },
      "source": [
        "from xgboost import XGBRegressor\n",
        "tuned_params = {'max_depth': [1, 2, 3, 4, 5], 'learning_rate': [0.01, 0.05, 0.1], 'n_estimators': [100, 200, 300, 400, 500], 'reg_lambda': [0.001, 0.1, 1.0, 10.0, 100.0]}\n",
        "model = RandomizedSearchCV(XGBRegressor(), tuned_params, n_iter=20, scoring = 'neg_mean_absolute_error', cv=5, n_jobs=-1)\n",
        "model.fit(X_train, y_train)"
      ],
      "execution_count": 152,
      "outputs": [
        {
          "output_type": "stream",
          "text": [
            "[21:15:02] WARNING: /workspace/src/objective/regression_obj.cu:152: reg:linear is now deprecated in favor of reg:squarederror.\n"
          ],
          "name": "stdout"
        },
        {
          "output_type": "execute_result",
          "data": {
            "text/plain": [
              "RandomizedSearchCV(cv=5, error_score=nan,\n",
              "                   estimator=XGBRegressor(base_score=0.5, booster='gbtree',\n",
              "                                          colsample_bylevel=1,\n",
              "                                          colsample_bynode=1,\n",
              "                                          colsample_bytree=1, gamma=0,\n",
              "                                          importance_type='gain',\n",
              "                                          learning_rate=0.1, max_delta_step=0,\n",
              "                                          max_depth=3, min_child_weight=1,\n",
              "                                          missing=None, n_estimators=100,\n",
              "                                          n_jobs=1, nthread=None,\n",
              "                                          objective='reg:linear',\n",
              "                                          random_state=0, reg_alpha=...\n",
              "                                          seed=None, silent=None, subsample=1,\n",
              "                                          verbosity=1),\n",
              "                   iid='deprecated', n_iter=20, n_jobs=-1,\n",
              "                   param_distributions={'learning_rate': [0.01, 0.05, 0.1],\n",
              "                                        'max_depth': [1, 2, 3, 4, 5],\n",
              "                                        'n_estimators': [100, 200, 300, 400,\n",
              "                                                         500],\n",
              "                                        'reg_lambda': [0.001, 0.1, 1.0, 10.0,\n",
              "                                                       100.0]},\n",
              "                   pre_dispatch='2*n_jobs', random_state=None, refit=True,\n",
              "                   return_train_score=False, scoring='neg_mean_absolute_error',\n",
              "                   verbose=0)"
            ]
          },
          "metadata": {
            "tags": []
          },
          "execution_count": 152
        }
      ]
    },
    {
      "cell_type": "code",
      "metadata": {
        "id": "3zFdgdz4yxpb"
      },
      "source": [
        "y_pred_xgboost=model.predict(X_test)"
      ],
      "execution_count": 153,
      "outputs": []
    },
    {
      "cell_type": "code",
      "metadata": {
        "id": "vPevb6rQzgDD",
        "outputId": "2149edaf-c0f5-4212-d5f0-4a910a83bae7",
        "colab": {
          "base_uri": "https://localhost:8080/",
          "height": 67
        }
      },
      "source": [
        "print(\"Root Mean Squared Error = {}\".format(rmse(y_test,y_pred_xgboost)))\n",
        "print(\"r2 score = {}\".format(r2_score(y_test,y_pred_xgboost)))\n",
        "print(\"Mean Absolute Percentage Error = {}%\".format(round(mean_absolute_percentage_error(y_test,y_pred_xgboost))))\n",
        "eval6=[rmse(y_test,y_pred_xgboost),r2_score(y_test,y_pred_xgboost),round(mean_absolute_percentage_error(y_test,y_pred_xgboost))]"
      ],
      "execution_count": 163,
      "outputs": [
        {
          "output_type": "stream",
          "text": [
            "Root Mean Squared Error = 1937.3201720018067\n",
            "r2 score = 0.8192843390822033\n",
            "Mean Absolute Percentage Error = 15%\n"
          ],
          "name": "stdout"
        }
      ]
    },
    {
      "cell_type": "markdown",
      "metadata": {
        "id": "nLIusoZXzpb3"
      },
      "source": [
        "##7. Decision Tree Regression\n"
      ]
    },
    {
      "cell_type": "code",
      "metadata": {
        "id": "Buk-ZykZ0DhP",
        "outputId": "39759b10-5428-430b-bb32-cf79897d000e",
        "colab": {
          "base_uri": "https://localhost:8080/",
          "height": 319
        }
      },
      "source": [
        "from sklearn.tree import DecisionTreeRegressor\n",
        "depth  =list(range(3,30))\n",
        "param_grid =dict(max_depth =depth)\n",
        "tree =GridSearchCV(DecisionTreeRegressor(),param_grid,cv =10)\n",
        "tree.fit(X_train,y_train)"
      ],
      "execution_count": 155,
      "outputs": [
        {
          "output_type": "execute_result",
          "data": {
            "text/plain": [
              "GridSearchCV(cv=10, error_score=nan,\n",
              "             estimator=DecisionTreeRegressor(ccp_alpha=0.0, criterion='mse',\n",
              "                                             max_depth=None, max_features=None,\n",
              "                                             max_leaf_nodes=None,\n",
              "                                             min_impurity_decrease=0.0,\n",
              "                                             min_impurity_split=None,\n",
              "                                             min_samples_leaf=1,\n",
              "                                             min_samples_split=2,\n",
              "                                             min_weight_fraction_leaf=0.0,\n",
              "                                             presort='deprecated',\n",
              "                                             random_state=None,\n",
              "                                             splitter='best'),\n",
              "             iid='deprecated', n_jobs=None,\n",
              "             param_grid={'max_depth': [3, 4, 5, 6, 7, 8, 9, 10, 11, 12, 13, 14,\n",
              "                                       15, 16, 17, 18, 19, 20, 21, 22, 23, 24,\n",
              "                                       25, 26, 27, 28, 29]},\n",
              "             pre_dispatch='2*n_jobs', refit=True, return_train_score=False,\n",
              "             scoring=None, verbose=0)"
            ]
          },
          "metadata": {
            "tags": []
          },
          "execution_count": 155
        }
      ]
    },
    {
      "cell_type": "code",
      "metadata": {
        "id": "2EUOLJO40Z-t"
      },
      "source": [
        "y_pred_tree =tree.predict(X_test)"
      ],
      "execution_count": 156,
      "outputs": []
    },
    {
      "cell_type": "code",
      "metadata": {
        "id": "px7nRycX0l4t",
        "outputId": "8f9ef1ff-d20f-4220-89f7-7266729c3629",
        "colab": {
          "base_uri": "https://localhost:8080/",
          "height": 67
        }
      },
      "source": [
        "print(\"Root Mean Squared Error = {}\".format(rmse(y_test,y_pred_tree)))\n",
        "print(\"r2 score = {}\".format(r2_score(y_test,y_pred_tree)))\n",
        "print(\"Mean Absolute Percentage Error = {}%\".format(round(mean_absolute_percentage_error(y_test,y_pred_tree))))\n",
        "eval7=[rmse(y_test,y_pred_tree),r2_score(y_test,y_pred_tree),round(mean_absolute_percentage_error(y_test,y_pred_tree))]"
      ],
      "execution_count": 169,
      "outputs": [
        {
          "output_type": "stream",
          "text": [
            "Root Mean Squared Error = 2260.7734843716244\n",
            "r2 score = 0.7539025627657459\n",
            "Mean Absolute Percentage Error = 16%\n"
          ],
          "name": "stdout"
        }
      ]
    },
    {
      "cell_type": "markdown",
      "metadata": {
        "id": "f-vffMY0etlJ"
      },
      "source": [
        "## Summary"
      ]
    },
    {
      "cell_type": "code",
      "metadata": {
        "id": "FrHiyy0dexn3",
        "outputId": "26035d7b-9c10-4473-f2c6-b22c2abd0213",
        "colab": {
          "base_uri": "https://localhost:8080/",
          "height": 136
        }
      },
      "source": [
        "models={'Linear Regression':eval1,\n",
        "        'Ridge Regression':eval2,\n",
        "        'Lasso Regression':eval3,\n",
        "        'Multilayer Perceptron':eval4,\n",
        "        'Random Forest Regression':eval5,\n",
        "        'XGBoost':eval6,\n",
        "        'Decision Tree':eval7}\n",
        "summary=pd.DataFrame(data=models,index=['RMSE','r2 Score','Mean Absolute Percentage Error'])\n",
        "summary"
      ],
      "execution_count": 167,
      "outputs": [
        {
          "output_type": "execute_result",
          "data": {
            "text/html": [
              "<div>\n",
              "<style scoped>\n",
              "    .dataframe tbody tr th:only-of-type {\n",
              "        vertical-align: middle;\n",
              "    }\n",
              "\n",
              "    .dataframe tbody tr th {\n",
              "        vertical-align: top;\n",
              "    }\n",
              "\n",
              "    .dataframe thead th {\n",
              "        text-align: right;\n",
              "    }\n",
              "</style>\n",
              "<table border=\"1\" class=\"dataframe\">\n",
              "  <thead>\n",
              "    <tr style=\"text-align: right;\">\n",
              "      <th></th>\n",
              "      <th>Linear Regression</th>\n",
              "      <th>Ridge Regression</th>\n",
              "      <th>Lasso Regression</th>\n",
              "      <th>Multilayer Perceptron</th>\n",
              "      <th>Random Forest Regression</th>\n",
              "      <th>XGBoost</th>\n",
              "      <th>Decision Tree</th>\n",
              "    </tr>\n",
              "  </thead>\n",
              "  <tbody>\n",
              "    <tr>\n",
              "      <th>RMSE</th>\n",
              "      <td>3008.552945</td>\n",
              "      <td>3024.027320</td>\n",
              "      <td>3010.271117</td>\n",
              "      <td>2094.085793</td>\n",
              "      <td>1891.357341</td>\n",
              "      <td>1937.320172</td>\n",
              "      <td>2260.773484</td>\n",
              "    </tr>\n",
              "    <tr>\n",
              "      <th>r2 Score</th>\n",
              "      <td>0.564179</td>\n",
              "      <td>0.564179</td>\n",
              "      <td>0.563681</td>\n",
              "      <td>0.788854</td>\n",
              "      <td>0.827758</td>\n",
              "      <td>0.819284</td>\n",
              "      <td>0.753903</td>\n",
              "    </tr>\n",
              "    <tr>\n",
              "      <th>Mean Absolute Percentage Error</th>\n",
              "      <td>27.130708</td>\n",
              "      <td>27.000000</td>\n",
              "      <td>27.000000</td>\n",
              "      <td>17.000000</td>\n",
              "      <td>13.000000</td>\n",
              "      <td>15.000000</td>\n",
              "      <td>16.000000</td>\n",
              "    </tr>\n",
              "  </tbody>\n",
              "</table>\n",
              "</div>"
            ],
            "text/plain": [
              "                                Linear Regression  ...  Decision Tree\n",
              "RMSE                                  3008.552945  ...    2260.773484\n",
              "r2 Score                                 0.564179  ...       0.753903\n",
              "Mean Absolute Percentage Error          27.130708  ...      16.000000\n",
              "\n",
              "[3 rows x 7 columns]"
            ]
          },
          "metadata": {
            "tags": []
          },
          "execution_count": 167
        }
      ]
    }
  ]
}